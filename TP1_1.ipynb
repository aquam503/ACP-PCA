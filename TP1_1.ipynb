{
 "cells": [
  {
   "cell_type": "markdown",
   "metadata": {},
   "source": [
    "# Majeure Science des données 2023-2024\n",
    "\n",
    "## TP Information\n",
    "- **University Program (UP):** Apprentissage statistique\n",
    "- **Course Title:** Analyse de données / réduction de dimension\n",
    "- **Course Type:** Cours\n",
    "- **Year:** 2023-2024\n",
    "\n",
    "### Course Description\n",
    "This course, \"Analyse de données / réduction de dimension,\" is part of the Majeure Science des données program for the academic year 2023-2024. It is offered under the University Program (UP) \"Apprentissage statistique.\"\n",
    "\n",
    "\n",
    "\n",
    "---\n",
    "Done by :\n",
    "*ELMAHFOUD Radouane* -\n",
    "*EL HAFI Farah* -\n",
    "*LMOURID Safae* -\n",
    "*LMOURID Hanae*.\n"
   ]
  },
  {
   "cell_type": "code",
   "execution_count": 51,
   "metadata": {},
   "outputs": [],
   "source": [
    "import numpy as np\n",
    "import matplotlib.pyplot as plt"
   ]
  },
  {
   "cell_type": "markdown",
   "metadata": {},
   "source": [
    "3.1 Statistiques nécessaires à l’ACP\n",
    "* Ecrire la matrice de données X\n",
    "* Comme rien n’est précisé quel est le poids statistique de chaque point i et donner la matrice\n",
    "diagonale D des poids des individus\n",
    "* Calculer la moyenne de chacune des var. X et Y (si possible de façon matricielle)\n",
    "* Centrer les données pour obtenir la matrice de données centrées Z de dimension (6,2)\n",
    "* Calculer la matrice de variance-covariances, que valent S2(X) et S2(Y) et cov(X,Y) "
   ]
  },
  {
   "cell_type": "markdown",
   "metadata": {},
   "source": [
    "Étape 1 : Ecrire la matrice de données X"
   ]
  },
  {
   "cell_type": "code",
   "execution_count": 52,
   "metadata": {},
   "outputs": [
    {
     "data": {
      "text/plain": [
       "array([[0, 0],\n",
       "       [1, 1],\n",
       "       [0, 1],\n",
       "       [1, 0],\n",
       "       [1, 1],\n",
       "       [0, 0]])"
      ]
     },
     "execution_count": 52,
     "metadata": {},
     "output_type": "execute_result"
    }
   ],
   "source": [
    "#Ecrire la matrice de données X\n",
    "X=np.array([[0,1,0,1,1,0],[0,1,1,0,1,0]]).T\n",
    "X"
   ]
  },
  {
   "cell_type": "markdown",
   "metadata": {},
   "source": [
    "Étape 2 : Matrice diagonale des poids des individus D"
   ]
  },
  {
   "cell_type": "markdown",
   "metadata": {},
   "source": [
    "Vous mentionnez que rien n'est précisé concernant les poids des individus. Par conséquent, supposons que les poids des individus sont tous égaux à 1. Dans ce cas, la matrice diagonale D des poids des individus est une matrice identité de dimension (6, 6) car il y a 6 individus :"
   ]
  },
  {
   "cell_type": "code",
   "execution_count": 53,
   "metadata": {},
   "outputs": [],
   "source": [
    "#on a travaillé avec l'identité mais aprés on va multiplier par 1/n=1/6\n",
    "D = np.eye(6)"
   ]
  },
  {
   "cell_type": "markdown",
   "metadata": {},
   "source": [
    "Étape 3 : Calcul des moyennes de X et Y"
   ]
  },
  {
   "cell_type": "markdown",
   "metadata": {},
   "source": [
    "Pour calculer les moyennes de chaque variable $\\mathrm{X}$ et $\\mathrm{Y}$ de manière matricielle, vous pouvez utiliser les poids des individus $\\mathrm{D}$ que nous venons de définir. Les moyennes sont calculées comme suit :\n",
    "\n",
    "Moyenne $X$ (moyenne des colonnes) :\n",
    "$$\n",
    "\\bar{X}=\\frac{1}{n} X^T D \\mathbf{1}\n",
    "$$\n",
    "\n",
    "Moyenne $Y$ (moyenne des colonnes) :\n",
    "$$\n",
    "\\bar{Y}=\\frac{1}{n} Y^T D \\mathbf{1}\n",
    "$$\n",
    "\n",
    "\n",
    "Calculons les moyennes en utilisant les valeurs que vous avez fournies:"
   ]
  },
  {
   "cell_type": "code",
   "execution_count": 54,
   "metadata": {},
   "outputs": [
    {
     "name": "stdout",
     "output_type": "stream",
     "text": [
      "mean_X =  [0.5]\n",
      "mean_Y =  [0.5]\n"
     ]
    }
   ],
   "source": [
    "mean_X = (1/6) * X[:, 0].T @ D @ np.ones((6, 1))\n",
    "mean_Y = (1/6) * X[:, 1].T @ D @ np.ones((6, 1))\n",
    "print(\"mean_X = \",mean_X)\n",
    "print(\"mean_Y = \",mean_Y)"
   ]
  },
  {
   "cell_type": "markdown",
   "metadata": {},
   "source": [
    "Étape 4 : Centrage des données pour obtenir la matrice de données centrées Z"
   ]
  },
  {
   "cell_type": "code",
   "execution_count": 55,
   "metadata": {},
   "outputs": [],
   "source": [
    "Z=X-np.mean(X, axis=0)"
   ]
  },
  {
   "cell_type": "code",
   "execution_count": 56,
   "metadata": {},
   "outputs": [
    {
     "data": {
      "text/plain": [
       "array([[-0.5, -0.5],\n",
       "       [ 0.5,  0.5],\n",
       "       [-0.5,  0.5],\n",
       "       [ 0.5, -0.5],\n",
       "       [ 0.5,  0.5],\n",
       "       [-0.5, -0.5]])"
      ]
     },
     "execution_count": 56,
     "metadata": {},
     "output_type": "execute_result"
    }
   ],
   "source": [
    "Z"
   ]
  },
  {
   "cell_type": "code",
   "execution_count": 57,
   "metadata": {},
   "outputs": [
    {
     "name": "stdout",
     "output_type": "stream",
     "text": [
      "mean(Z) = 0.0\n"
     ]
    }
   ],
   "source": [
    "print(\"mean(Z) =\",Z.mean())"
   ]
  },
  {
   "cell_type": "markdown",
   "metadata": {},
   "source": [
    "Étape 5: Calcul de la matrice de variance-covariance et des variances et covariances\n",
    "\n",
    "La matrice de variance-covariance A est calculée comme suit :\n",
    "$$\n",
    "A=\\frac{1}{n} Z^T D Z\n",
    "$$\n",
    "\n",
    "Où :\n",
    "- A est la matrice de variance-covariance,\n",
    "- Z est la matrice de données centrées ,\n",
    "- D est la matrice diagonale des poids des individus (une matrice identité),\n",
    "- n est le nombre d'individus (dans ce cas, 6).\n",
    "\n",
    "Les éléments diagonaux de la matrice A représentent les variances des variables, et les éléments non diagonaux représentent les covariances entre les variables. \n",
    "\n",
    "Calculons la matrice de variance-covariance A ainsi que les variances et la covariance :"
   ]
  },
  {
   "cell_type": "code",
   "execution_count": 58,
   "metadata": {},
   "outputs": [
    {
     "data": {
      "text/plain": [
       "array([[1., 0., 0., 0., 0., 0.],\n",
       "       [0., 1., 0., 0., 0., 0.],\n",
       "       [0., 0., 1., 0., 0., 0.],\n",
       "       [0., 0., 0., 1., 0., 0.],\n",
       "       [0., 0., 0., 0., 1., 0.],\n",
       "       [0., 0., 0., 0., 0., 1.]])"
      ]
     },
     "execution_count": 58,
     "metadata": {},
     "output_type": "execute_result"
    }
   ],
   "source": [
    "D"
   ]
  },
  {
   "cell_type": "code",
   "execution_count": 59,
   "metadata": {},
   "outputs": [
    {
     "data": {
      "text/plain": [
       "array([[-0.5, -0.5],\n",
       "       [ 0.5,  0.5],\n",
       "       [-0.5,  0.5],\n",
       "       [ 0.5, -0.5],\n",
       "       [ 0.5,  0.5],\n",
       "       [-0.5, -0.5]])"
      ]
     },
     "execution_count": 59,
     "metadata": {},
     "output_type": "execute_result"
    }
   ],
   "source": [
    "Z"
   ]
  },
  {
   "cell_type": "code",
   "execution_count": 60,
   "metadata": {},
   "outputs": [
    {
     "data": {
      "text/plain": [
       "array([[0, 0],\n",
       "       [1, 1],\n",
       "       [0, 1],\n",
       "       [1, 0],\n",
       "       [1, 1],\n",
       "       [0, 0]])"
      ]
     },
     "execution_count": 60,
     "metadata": {},
     "output_type": "execute_result"
    }
   ],
   "source": [
    "X"
   ]
  },
  {
   "cell_type": "code",
   "execution_count": 61,
   "metadata": {},
   "outputs": [
    {
     "name": "stdout",
     "output_type": "stream",
     "text": [
      "Matrice de variance-covariance A :\n",
      "[[0.25       0.08333333]\n",
      " [0.08333333 0.25      ]]\n",
      "Variance de X (S^2(X)) : 0.24999999999999997\n",
      "Variance de Y (S^2(Y)) : 0.24999999999999997\n",
      "Covariance entre X et Y (cov(X, Y)) : 0.08333333333333333\n"
     ]
    }
   ],
   "source": [
    "# Matrice de variance-covariance S\n",
    "A = (1/6) * Z.T @ D @ Z\n",
    "\n",
    "# Variances et covariance\n",
    "variance_X = A[0, 0]\n",
    "variance_Y = A[1, 1]\n",
    "covariance_XY = A[0, 1]\n",
    "\n",
    "# Afficher les résultats\n",
    "print(\"Matrice de variance-covariance A :\")\n",
    "print(A)\n",
    "print(\"Variance de X (S^2(X)) :\", variance_X)\n",
    "print(\"Variance de Y (S^2(Y)) :\", variance_Y)\n",
    "print(\"Covariance entre X et Y (cov(X, Y)) :\", covariance_XY)"
   ]
  },
  {
   "cell_type": "markdown",
   "metadata": {},
   "source": [
    "3.2 Calculer les valeurs propres $\\lambda_1$ et $\\lambda_2$. Vérifier que la somme des valeurs propres de la matrice de covariance $A$ est la trace de la matrice $A$ et sachant que le déterminant de la matrice $A$ est égal au produit des valeurs propres $\\lambda_1 \\times \\lambda_2$."
   ]
  },
  {
   "cell_type": "markdown",
   "metadata": {},
   "source": [
    "\\begin{aligned}\n",
    "& \\lambda_1=\\frac{1}{2}\\left(s^2(X)+s^2(Y)+\\sqrt{\\left(s^2(X)-s^2(Y)\\right)^2+4(\\operatorname{Cov}[X, Y])^2}\\right) \\\\\n",
    "& \\lambda_2=\\frac{1}{2}\\left(s^2(X)+s^2(Y)-\\sqrt{\\left(s^2(X)-s^2(Y)\\right)^2+4(\\operatorname{Cov}[X, Y])^2}\\right)\n",
    "\\end{aligned}"
   ]
  },
  {
   "cell_type": "code",
   "execution_count": 62,
   "metadata": {},
   "outputs": [
    {
     "name": "stdout",
     "output_type": "stream",
     "text": [
      "lambda_1: 0.3333333333333333\n",
      "lambda_2: 0.16666666666666663\n"
     ]
    }
   ],
   "source": [
    "# Calculate s^2(X), s^2(Y), and Cov(X, Y)\n",
    "s2_X = np.mean(Z[:, 0] ** 2)\n",
    "s2_Y = np.mean(Z[:, 1] ** 2)\n",
    "Cov_XY = np.mean(Z[:, 0] * Z[:, 1])\n",
    "\n",
    "# Calculate lambda_1 and lambda_2\n",
    "discriminant = np.sqrt((variance_X - variance_Y) ** 2 + 4 * (covariance_XY ** 2))\n",
    "lambda_1 = 0.5 * (variance_X + variance_Y + discriminant)\n",
    "lambda_2 = 0.5 * (variance_X + variance_Y - discriminant)\n",
    "eigenvalues=np.array([lambda_1,lambda_2])\n",
    "# Print the eigenvalues\n",
    "print(f\"lambda_1: {lambda_1}\")\n",
    "print(f\"lambda_2: {lambda_2}\")"
   ]
  },
  {
   "cell_type": "markdown",
   "metadata": {},
   "source": [
    "On remarque bien que $\\lambda_1$ > $\\lambda_2$"
   ]
  },
  {
   "cell_type": "markdown",
   "metadata": {},
   "source": [
    "Le polynôme caractéristiques (pour $\\mathrm{n}=2$ ) a 2 racines donc 2 valeurs propres distinctes ( $\\lambda 1$ et $\\lambda 2)$ avec :\n",
    "- la somme des valeurs propres est la trace de la matrice, somme des éléments de la première diagonale $\\quad \\lambda_1+\\lambda_2=s^2(X)+s^2(Y)=trace(A) \\geq 0$"
   ]
  },
  {
   "cell_type": "code",
   "execution_count": 63,
   "metadata": {},
   "outputs": [
    {
     "name": "stdout",
     "output_type": "stream",
     "text": [
      "Somme des valeurs propres : 0.49999999999999994\n",
      "Trace de la matrice A : 0.49999999999999994\n"
     ]
    }
   ],
   "source": [
    "# Somme des valeurs propres\n",
    "sum_eigenvalues = np.sum(eigenvalues)\n",
    "# Trace de la matrice A (c'est la somme des éléments diagonaux de S)\n",
    "trace_A = np.trace(A)\n",
    "print(\"Somme des valeurs propres :\", sum_eigenvalues)\n",
    "print(\"Trace de la matrice A :\", trace_A)"
   ]
  },
  {
   "cell_type": "markdown",
   "metadata": {},
   "source": [
    "Donc on a bien l'égalité."
   ]
  },
  {
   "cell_type": "markdown",
   "metadata": {},
   "source": [
    "- le produit de ces valeurs propres est le déterminant de la matrice\n",
    "$$\n",
    "\\lambda_1 \\lambda_2=s^2(X) s^2(Y)-(\\operatorname{Cov}(X, Y))^2=det(A) \\geq 0\n",
    "$$"
   ]
  },
  {
   "cell_type": "code",
   "execution_count": 64,
   "metadata": {},
   "outputs": [
    {
     "name": "stdout",
     "output_type": "stream",
     "text": [
      "Déterminant de la matrice A : 0.05555555555555554\n",
      "Produit des valeurs propres (lambda_1 * lambda_2) : 0.05555555555555554\n"
     ]
    }
   ],
   "source": [
    "# Calcul du déterminant de la matrice A\n",
    "determinant_A = np.linalg.det(A)\n",
    "# Produit des valeurs propres\n",
    "product_eigenvalues = eigenvalues[0] * eigenvalues[1]\n",
    "print(\"Déterminant de la matrice A :\", determinant_A)\n",
    "print(\"Produit des valeurs propres (lambda_1 * lambda_2) :\", product_eigenvalues)"
   ]
  },
  {
   "cell_type": "markdown",
   "metadata": {},
   "source": [
    "3.3 A partir des éléments du TD, donner l'expression et la valeur des 2 vecteurs propres $u_1$ et $u_2$ correspondant aux 2 valeurs propres $\\lambda_1$ et $\\lambda_2$."
   ]
  },
  {
   "cell_type": "markdown",
   "metadata": {},
   "source": [
    "En utilisant les expressions :"
   ]
  },
  {
   "cell_type": "markdown",
   "metadata": {},
   "source": [
    "Pour $u_1$ (première valeur propre) :\n",
    "$$\n",
    "u_1=\\frac{1}{\\sqrt{\\left(s^2(Y)-\\lambda_1\\right)^2+(\\operatorname{Cov}(X, Y))^2}}\\left(\\begin{array}{c}\n",
    "s^2(Y)-\\lambda_1 \\\\\n",
    "-\\operatorname{Cov}(X, Y)\n",
    "\\end{array}\\right)\n",
    "$$\n",
    "\n",
    "Pour  $u_2$ (deuxième valeur propre):\n",
    "$$\n",
    "u_2=\\frac{1}{\\sqrt{\\left(s^2(Y)-\\lambda_2\\right)^2+(\\operatorname{Cov}(X, Y))^2}}\\left(\\begin{array}{c}\n",
    "s^2(Y)-\\lambda_2 \\\\\n",
    "-\\operatorname{Cov}(X, Y)\n",
    "\\end{array}\\right)\n",
    "$$\n",
    "\n",
    "Voici comment on peut implémenter ces calculs en Python :"
   ]
  },
  {
   "cell_type": "code",
   "execution_count": 65,
   "metadata": {},
   "outputs": [
    {
     "name": "stdout",
     "output_type": "stream",
     "text": [
      "Vecteur propre u1 : [-0.70710678 -0.70710678]\n",
      "Vecteur propre u2 : [ 0.70710678 -0.70710678]\n"
     ]
    }
   ],
   "source": [
    "# Valeurs propres\n",
    "lambda_1 = eigenvalues[0]\n",
    "lambda_2 = eigenvalues[1]\n",
    "\n",
    "# Calcul des vecteurs propres u1 et u2\n",
    "u1 = (1 / np.sqrt((variance_Y - lambda_1)**2 + covariance_XY**2)) * np.array([variance_Y - lambda_1, -covariance_XY])\n",
    "u2 = (1 / np.sqrt((variance_Y - lambda_2)**2 + covariance_XY**2)) * np.array([variance_Y - lambda_2, -covariance_XY])\n",
    "\n",
    "# Afficher les vecteurs propres\n",
    "print(\"Vecteur propre u1 :\", u1)\n",
    "print(\"Vecteur propre u2 :\", u2)"
   ]
  },
  {
   "cell_type": "markdown",
   "metadata": {},
   "source": [
    "3.4 Vérifier que $I_s(u)={ }^t u A u=\\lambda{ }^t u u=\\lambda\\|u\\|^2=\\lambda$ pour un axe principal de droite $\\mathbf{D}$ de vecteur propre u pour l'inertie statistique expliquée par les 2 axes principaux."
   ]
  },
  {
   "cell_type": "code",
   "execution_count": 66,
   "metadata": {},
   "outputs": [
    {
     "name": "stdout",
     "output_type": "stream",
     "text": [
      "Is_u1 = 0.33333333333333326\n",
      "Inertie statistique pour u1 vérifiée : 0.33333333333333326\n",
      "Is_u1 = 0.16666666666666663\n",
      "Inertie statistique pour u2 vérifiée : 0.16666666666666663\n"
     ]
    }
   ],
   "source": [
    "# Calcul de l'inertie statistique pour u1\n",
    "Is_u1 = u1.T @ A @ u1\n",
    "print(\"Is_u1 =\",Is_u1)\n",
    "\n",
    "# Comparaison avec la valeur propre correspondante (lambda_1)\n",
    "if np.isclose(Is_u1, eigenvalues[0]):\n",
    "    print(\"Inertie statistique pour u1 vérifiée :\", Is_u1)\n",
    "else:\n",
    "    print(\"Inertie statistique pour u1 non vérifiée :\", Is_u1)\n",
    "\n",
    "# Calcul de l'inertie statistique pour u2\n",
    "Is_u2 = u2.T @ A @ u2\n",
    "print(\"Is_u1 =\",Is_u2)\n",
    "\n",
    "# Comparaison avec la valeur propre correspondante (lambda_2)\n",
    "if np.isclose(Is_u2, eigenvalues[1]):\n",
    "    print(\"Inertie statistique pour u2 vérifiée :\", Is_u2)\n",
    "else:\n",
    "    print(\"Inertie statistique pour u2 non vérifiée :\", Is_u2)\n"
   ]
  },
  {
   "cell_type": "markdown",
   "metadata": {},
   "source": [
    "3.5 Vérifier que la somme de l'inertie totale du nuage est à la somme de l'inertie statistique portée par chacun des 2 axes principaux (trace de la matrice de covariance) : $I_T=I_s\\left(u_1\\right)+I_s\\left(u_2\\right)$"
   ]
  },
  {
   "cell_type": "code",
   "execution_count": 67,
   "metadata": {},
   "outputs": [
    {
     "name": "stdout",
     "output_type": "stream",
     "text": [
      "IT = 0.5\n",
      "IS_u1 = 0.33333333333333326\n",
      "IS_u1 = 0.33333333333333326\n",
      "lambda_1 vérification: 0.33333333333333326\n",
      "lambda_2 vérification: 0.16666666666666663\n",
      "I_T vérification: 0.4999999999999999\n"
     ]
    }
   ],
   "source": [
    "# Calcul de l'inertie totale I_T\n",
    "IT = (1/6) * np.sum(Z**2)\n",
    "print(\"IT =\",IT)\n",
    "\n",
    "# Calcul de l'inertie statistique Is(u) pour les deux axes principaux\n",
    "IS_u1 = (1/6) * np.sum((Z @ u1)**2)\n",
    "IS_u2 = (1/6) * np.sum((Z @ u2)**2)\n",
    "print(\"IS_u1 =\",IS_u1)\n",
    "print(\"IS_u1 =\",IS_u1)\n",
    "\n",
    "# Vérification de l'énoncé 3.4\n",
    "lambda_1_verification = IS_u1\n",
    "lambda_2_verification = IS_u2\n",
    "\n",
    "# Vérification de l'énoncé 3.5\n",
    "IT_verification = IS_u1 + IS_u2\n",
    "\n",
    "# Affichage des résultats\n",
    "print(f\"lambda_1 vérification: {lambda_1_verification}\")\n",
    "print(f\"lambda_2 vérification: {lambda_2_verification}\")\n",
    "print(f\"I_T vérification: {IT_verification}\")"
   ]
  },
  {
   "cell_type": "code",
   "execution_count": 68,
   "metadata": {},
   "outputs": [
    {
     "name": "stdout",
     "output_type": "stream",
     "text": [
      "I_T= 0.49999999999999994\n",
      "Vérification réussie : I_T = Is(u1) + Is(u2)\n"
     ]
    }
   ],
   "source": [
    "# Somme des valeurs propres de la matrice de covariance (trace de A)\n",
    "trace_A = np.trace(A)\n",
    "\n",
    "# Somme de l'inertie statistique portée par les deux axes principaux\n",
    "Is_sum = eigenvalues[0] + eigenvalues[1]\n",
    "print(\"I_T=\",Is_sum)\n",
    "\n",
    "# Comparaison entre l'inertie totale et la somme des inertie statistiques\n",
    "if np.isclose(trace_A, Is_sum):\n",
    "    print(\"Vérification réussie : I_T = Is(u1) + Is(u2)\")\n",
    "    I_T = IS_u1 + IS_u2\n",
    "else:\n",
    "    print(\"Vérification échouée : I_T ≠ Is(u1) + Is(u2)\")"
   ]
  },
  {
   "cell_type": "markdown",
   "metadata": {},
   "source": [
    "3.6 Faire le graphique des 2 axes principaux D1 et D2."
   ]
  },
  {
   "cell_type": "code",
   "execution_count": 69,
   "metadata": {},
   "outputs": [
    {
     "data": {
      "text/plain": [
       "(array([-0.70710678, -0.70710678]), array([ 0.70710678, -0.70710678]))"
      ]
     },
     "execution_count": 69,
     "metadata": {},
     "output_type": "execute_result"
    }
   ],
   "source": [
    "u1,u2"
   ]
  },
  {
   "cell_type": "code",
   "execution_count": 70,
   "metadata": {},
   "outputs": [
    {
     "data": {
      "image/png": "[encoded data removed]",
      "text/plain": [
       "<Figure size 432x288 with 1 Axes>"
      ]
     },
     "metadata": {
      "needs_background": "light"
     },
     "output_type": "display_data"
    }
   ],
   "source": [
    "# Calculate coordinates for D1 and D2\n",
    "mean_X=np.mean(X, axis=0)\n",
    "D1 = mean_X + 2 * u1\n",
    "D2 = mean_X + 2 * u2\n",
    "\n",
    "# Create a scatter plot of your data\n",
    "plt.scatter(X[:, 0], X[:, 1], label='Data Points', c='blue')\n",
    "\n",
    "# Plot the two principal axes\n",
    "plt.plot([mean_X[0], D1[0]], [mean_X[1], D1[1]], label='D1 (Principal Axis 1)', c='red')\n",
    "plt.plot([mean_X[0], D2[0]], [mean_X[1], D2[1]], label='D2 (Principal Axis 2)', c='green')\n",
    "\n",
    "# Set axis labels\n",
    "plt.xlabel('X')\n",
    "plt.ylabel('Y')\n",
    "\n",
    "# Add legend\n",
    "plt.legend()\n",
    "\n",
    "# Show the plot\n",
    "plt.grid()\n",
    "plt.show()\n"
   ]
  },
  {
   "cell_type": "markdown",
   "metadata": {},
   "source": [
    "* Autre Méthode :"
   ]
  },
  {
   "cell_type": "markdown",
   "metadata": {},
   "source": [
    "(D1): y = mx + c et u1 vecteur directeur donc m=u1[1]/u1[0]\n",
    "\n",
    "aussi mean(X)=np.mean(X, axis=0) £ à (D1) donc c=mean(X)[1]-mean(X)[0]*(u1[1]/u[0])"
   ]
  },
  {
   "cell_type": "code",
   "execution_count": 71,
   "metadata": {},
   "outputs": [
    {
     "data": {
      "text/plain": [
       "\"# Create a scatter plot of your data\\nplt.scatter(X[:, 0], X[:, 1], label='Data Points', c='blue')\\nx=np.linspace(-1,2,5)\\ny1=(u1[1]/u1[0])*x+mean_Y[0]-mean_X[0]*(u1[1]/u1[0])\\ny2=(u2[1]/u2[0])*x+mean_Y[0]-mean_X[0]*(u2[1]/u2[0])\\n# Plot the two principal axes\\nplt.plot(x, y1, label='D1 (Principal Axis 1)', c='red')\\nplt.plot(x, y2, label='D2 (Principal Axis 2)', c='green')\\n# Définissez le nombre de divisions souhaité sur l'axe Y (par exemple, 10 divisions)\\nnum_divisions = 10\\nplt.yticks(num_divisions)\\n# Set axis labels\\nplt.xlabel('X')\\nplt.ylabel('Y')\\n\\n# Add legend\\nplt.legend()\\n\\n# Show the plot\\nplt.grid()\\nplt.show()\""
      ]
     },
     "execution_count": 71,
     "metadata": {},
     "output_type": "execute_result"
    }
   ],
   "source": [
    "'''# Create a scatter plot of your data\n",
    "plt.scatter(X[:, 0], X[:, 1], label='Data Points', c='blue')\n",
    "x=np.linspace(-1,2,5)\n",
    "y1=(u1[1]/u1[0])*x+mean_Y[0]-mean_X[0]*(u1[1]/u1[0])\n",
    "y2=(u2[1]/u2[0])*x+mean_Y[0]-mean_X[0]*(u2[1]/u2[0])\n",
    "# Plot the two principal axes\n",
    "plt.plot(x, y1, label='D1 (Principal Axis 1)', c='red')\n",
    "plt.plot(x, y2, label='D2 (Principal Axis 2)', c='green')\n",
    "# Définissez le nombre de divisions souhaité sur l'axe Y (par exemple, 10 divisions)\n",
    "num_divisions = 10\n",
    "plt.yticks(num_divisions)\n",
    "# Set axis labels\n",
    "plt.xlabel('X')\n",
    "plt.ylabel('Y')\n",
    "\n",
    "# Add legend\n",
    "plt.legend()\n",
    "\n",
    "# Show the plot\n",
    "plt.grid()\n",
    "plt.show()'''"
   ]
  },
  {
   "cell_type": "code",
   "execution_count": 72,
   "metadata": {},
   "outputs": [
    {
     "data": {
      "text/plain": [
       "(array([-0.70710678, -0.70710678]), array([ 0.70710678, -0.70710678]))"
      ]
     },
     "execution_count": 72,
     "metadata": {},
     "output_type": "execute_result"
    }
   ],
   "source": [
    "u1,u2"
   ]
  },
  {
   "cell_type": "code",
   "execution_count": 73,
   "metadata": {},
   "outputs": [
    {
     "data": {
      "image/png": "[encoded data removed]",
      "text/plain": [
       "<Figure size 432x288 with 1 Axes>"
      ]
     },
     "metadata": {
      "needs_background": "light"
     },
     "output_type": "display_data"
    }
   ],
   "source": [
    "import matplotlib.pyplot as plt\n",
    "import numpy as np\n",
    "\n",
    "# Create a scatter plot of your data\n",
    "plt.scatter(X[:, 0], X[:, 1], label='Data Points', c='blue')\n",
    "\n",
    "# Define the range for x values\n",
    "x = np.linspace(-1, 2, 5)\n",
    "\n",
    "# Calculate the y values for the two principal axes\n",
    "y1 = (u1[1] / u1[0]) * (x-mean_X[0]) + mean_Y[0]\n",
    "y2 = (u2[1] / u2[0]) *  (x-mean_X[0])+ mean_Y[0]\n",
    "\n",
    "# Plot the two principal axes\n",
    "plt.plot(x, y1, label='D1 (Principal Axis 1)', c='red')\n",
    "plt.plot(x, y2, label='D2 (Principal Axis 2)', c='green')\n",
    "\n",
    "# Set axis labels\n",
    "plt.xlabel('X')\n",
    "plt.ylabel('Y')\n",
    "\n",
    "# Add a title\n",
    "plt.title('Scatter Plot with Principal Axes')\n",
    "\n",
    "# Add a legend with a custom location\n",
    "plt.legend(loc='upper right')\n",
    "\n",
    "# Set the aspect ratio to be equal to ensure the same scale on both axes\n",
    "plt.axis('equal')\n",
    "\n",
    "# Add grid lines\n",
    "plt.grid()\n",
    "\n",
    "# Show the plot\n",
    "plt.show()\n"
   ]
  },
  {
   "cell_type": "markdown",
   "metadata": {},
   "source": [
    "3.7 Calculer le taux d'inertie expliqué par chaque composante"
   ]
  },
  {
   "cell_type": "markdown",
   "metadata": {},
   "source": [
    "$\\frac{\\lambda_{\\mathrm{i}}}{\\lambda_1+\\lambda_2+\\ldots \\lambda_{\\mathrm{p}}}$\n",
    "mesure la part d'inertie expliquée par l'axe i."
   ]
  },
  {
   "cell_type": "code",
   "execution_count": 74,
   "metadata": {},
   "outputs": [
    {
     "name": "stdout",
     "output_type": "stream",
     "text": [
      "Taux d'inertie expliqué par la composante 1 (D1) : 0.6666666666666667\n",
      "Taux d'inertie expliqué par la composante 2 (D2) : 0.3333333333333333\n"
     ]
    }
   ],
   "source": [
    "# Taux d'inertie expliqué par chaque composante\n",
    "explained_inertia_component1 = eigenvalues[0] / np.sum(eigenvalues)\n",
    "explained_inertia_component2 = eigenvalues[1] / np.sum(eigenvalues)\n",
    "\n",
    "# Afficher les taux d'inertie expliqués\n",
    "print(\"Taux d'inertie expliqué par la composante 1 (D1) :\", explained_inertia_component1)\n",
    "print(\"Taux d'inertie expliqué par la composante 2 (D2) :\", explained_inertia_component2)"
   ]
  },
  {
   "cell_type": "markdown",
   "metadata": {},
   "source": [
    "4. Coordonnées factorielles et composantes principales\n",
    "\n",
    "Calculer les coordonnées factorielles de chacun des 6 individus, soit les 6 vecteurs $\\overrightarrow{G M_t}$, dans la base propre orthonormée $\\{\\mathrm{u} 1, \\mathrm{u} 2\\}$ à partir de la matrice des coordonnées $V$ des vecteurs propres. Pour chaque point $i$ le projeté de $G m_i$ est défini par le produit scalaire entre $\\overrightarrow{G M_l}$, et $u$, soit les coordonnées factorielles du nuage de points dans $\\mathbb{R}^2$ muni de la base $\\{\\mathrm{u} 1, \\mathrm{u} 2\\}$ :\n",
    "$$\n",
    "\\left.\\left(\\left\\langle\\overrightarrow{G M_l} \\mid u_1\\right\\rangle\\left\\langle\\overrightarrow{G M_l} \\mid u_2\\right\\rangle\\right)={ }^t\\left(\\begin{array}{l}\n",
    "\\left\\langle\\overrightarrow{G M_l} \\mid u_1\\right\\rangle \\\\\n",
    "\\left\\langle\\overrightarrow{G M_l} \\mid u_2\\right\\rangle\n",
    "\\end{array}\\right)={ }^t\\left({ }^t V\\right)\\left(\\begin{array}{l}\n",
    "x_{i 0} \\\\\n",
    "y_{i 0}\n",
    "\\end{array}\\right)\\right)=\\left(\\begin{array}{ll}\n",
    "x_{i 0} & y_{i 0}\n",
    "\\end{array}\\right) V \\text { pour tout } i \\in\\{1, \\ldots n\\}\n",
    "$$"
   ]
  },
  {
   "cell_type": "markdown",
   "metadata": {},
   "source": [
    "Projection d'un individu (un point de $\\mathbb{R}^p$ ) sur un axe.\n",
    "\n",
    "La projection orthogonale d'un point $\\mathbf{z}_i \\in \\mathbb{R}^p$ sur un axe $\\Delta_\\alpha$ de vecteur directeur $\\mathbf{v}_\\alpha$ $\\left(\\mathbf{v}_\\alpha^T \\mathbf{v}_\\alpha=1\\right)$ a pour coordonnée :\n",
    "$$\n",
    "f_{i \\alpha}=<\\mathbf{z}_i, \\mathbf{v}_\\alpha>=\\mathbf{z}_i^T \\mathbf{v}_\\alpha,\n",
    "$$\n",
    "et le vecteur des coordonnées de projections des $n$ individus est :\n",
    "$$\n",
    "\\mathbf{f}^\\alpha=\\left(\\begin{array}{c}\n",
    "f_{1 \\alpha} \\\\\n",
    "\\vdots \\\\\n",
    "f_{n \\alpha}\n",
    "\\end{array}\\right)=\\mathbf{Z} \\mathbf{v}_\\alpha=\\sum_{j=1}^p v_{j \\alpha} \\mathbf{z}^j .\n",
    "$$\n",
    "- $\\mathbf{f}^\\alpha$ est une combinaison linéaire des colonnes de $\\mathbf{Z}$.\n",
    "- $\\mathbf{f}^\\alpha$ est centré si les colonnes de $\\mathbf{Z}$ sont centrées."
   ]
  },
  {
   "cell_type": "code",
   "execution_count": 75,
   "metadata": {},
   "outputs": [
    {
     "name": "stdout",
     "output_type": "stream",
     "text": [
      "Coordonnées factorielles des individus :\n",
      "Individu 1: (0.7071067811865475, -5.551115123125783e-17)\n",
      "Individu 2: (-0.7071067811865475, 5.551115123125783e-17)\n",
      "Individu 3: (5.551115123125783e-17, -0.7071067811865475)\n",
      "Individu 4: (-5.551115123125783e-17, 0.7071067811865475)\n",
      "Individu 5: (-0.7071067811865475, 5.551115123125783e-17)\n",
      "Individu 6: (0.7071067811865475, -5.551115123125783e-17)\n"
     ]
    }
   ],
   "source": [
    "# Matrice des coordonnées factorielles V (vecteurs propres u1 et u2)\n",
    "V = np.column_stack((u1, u2))\n",
    "\n",
    "# Calcul des coordonnées factorielles pour chaque individu\n",
    "coordonnees_factorielles = Z @ V\n",
    "\n",
    "\n",
    "# Affichage des coordonnées factorielles\n",
    "print(\"Coordonnées factorielles des individus :\")\n",
    "for i, coord in enumerate(coordonnees_factorielles):\n",
    "    print(f\"Individu {i+1}: ({coord[0]}, {coord[1]})\")"
   ]
  },
  {
   "cell_type": "code",
   "execution_count": 76,
   "metadata": {},
   "outputs": [
    {
     "data": {
      "text/plain": [
       "array([[ 7.07106781e-01, -5.55111512e-17],\n",
       "       [-7.07106781e-01,  5.55111512e-17],\n",
       "       [ 5.55111512e-17, -7.07106781e-01],\n",
       "       [-5.55111512e-17,  7.07106781e-01],\n",
       "       [-7.07106781e-01,  5.55111512e-17],\n",
       "       [ 7.07106781e-01, -5.55111512e-17]])"
      ]
     },
     "execution_count": 76,
     "metadata": {},
     "output_type": "execute_result"
    }
   ],
   "source": [
    "coordonnees_factorielles"
   ]
  },
  {
   "cell_type": "code",
   "execution_count": 77,
   "metadata": {},
   "outputs": [
    {
     "data": {
      "text/plain": [
       "array([[-0.70710678,  0.70710678],\n",
       "       [-0.70710678, -0.70710678]])"
      ]
     },
     "execution_count": 77,
     "metadata": {},
     "output_type": "execute_result"
    }
   ],
   "source": [
    "V"
   ]
  },
  {
   "cell_type": "markdown",
   "metadata": {},
   "source": [
    "- $\\mathbf{f}^\\alpha$ est centré si les colonnes de $\\mathbf{Z}$ sont centrées."
   ]
  },
  {
   "cell_type": "code",
   "execution_count": 78,
   "metadata": {},
   "outputs": [
    {
     "data": {
      "text/plain": [
       "array([0., 0.])"
      ]
     },
     "execution_count": 78,
     "metadata": {},
     "output_type": "execute_result"
    }
   ],
   "source": [
    "coordonnees_factorielles.mean(axis=0)"
   ]
  },
  {
   "cell_type": "markdown",
   "metadata": {},
   "source": [
    "5.Calculer la qualité des projections individus"
   ]
  },
  {
   "cell_type": "code",
   "execution_count": 79,
   "metadata": {},
   "outputs": [
    {
     "name": "stdout",
     "output_type": "stream",
     "text": [
      "Individu 1: Qualité de projection = 1.0\n",
      "Individu 2: Qualité de projection = 1.0\n",
      "Individu 3: Qualité de projection = 1.0\n",
      "Individu 4: Qualité de projection = 1.0\n",
      "Individu 5: Qualité de projection = 1.0\n",
      "Individu 6: Qualité de projection = 1.0\n"
     ]
    }
   ],
   "source": [
    "# Nombre d'axes principaux que vous considérez (k)\n",
    "k = 2\n",
    "\n",
    "# Calcul des qualités de projection pour chaque individu\n",
    "qualites_projection = []\n",
    "for i in range(coordonnees_factorielles.shape[0]):\n",
    "    # Carré du cosinus de l'angle entre la projection et le vecteur e_i\n",
    "    cosinus_carre = np.sum(coordonnees_factorielles[i, :k] ** 2) / np.sum(coordonnees_factorielles[i] ** 2)\n",
    "    qualites_projection.append(cosinus_carre)\n",
    "\n",
    "# Affichage des qualités de projection\n",
    "for i, qualite in enumerate(qualites_projection):\n",
    "    print(f\"Individu {i+1}: Qualité de projection = {qualite}\")"
   ]
  },
  {
   "cell_type": "markdown",
   "metadata": {},
   "source": [
    "La qualité de projection  de  chaque individu sur les deux premiers axes principaux est 1. Une qualité de projection de 1 signifie que l'individu est entièrement représenté par une combinaison linéaire des deux premiers axes principaux. En d’autres termes, les deux premiers axes expliquent complètement la variance des données de chaque individu. Cela indique que ces deux axes capturent bien les relations entre les variables et les personnes dans l'ensemble de données."
   ]
  },
  {
   "cell_type": "markdown",
   "metadata": {},
   "source": [
    "Remarque si on conserve qu'un axe (k=1)"
   ]
  },
  {
   "cell_type": "code",
   "execution_count": 80,
   "metadata": {},
   "outputs": [
    {
     "name": "stdout",
     "output_type": "stream",
     "text": [
      "Individu 1: Qualité de projection = 1.0\n",
      "Individu 2: Qualité de projection = 1.0\n",
      "Individu 3: Qualité de projection = 6.162975822039156e-33\n",
      "Individu 4: Qualité de projection = 6.162975822039156e-33\n",
      "Individu 5: Qualité de projection = 1.0\n",
      "Individu 6: Qualité de projection = 1.0\n"
     ]
    }
   ],
   "source": [
    "# Nombre d'axes principaux que vous considérez (k)\n",
    "k = 1\n",
    "\n",
    "# Calcul des qualités de projection pour chaque individu\n",
    "qualites_projection = []\n",
    "for i in range(coordonnees_factorielles.shape[0]):\n",
    "    # Carré du cosinus de l'angle entre la projection et le vecteur e_i\n",
    "    cosinus_carre = np.sum(coordonnees_factorielles[i, :k] ** 2) / np.sum(coordonnees_factorielles[i] ** 2)\n",
    "    qualites_projection.append(cosinus_carre)\n",
    "\n",
    "# Affichage des qualités de projection\n",
    "for i, qualite in enumerate(qualites_projection):\n",
    "    print(f\"Individu {i+1}: Qualité de projection = {qualite}\")"
   ]
  },
  {
   "cell_type": "markdown",
   "metadata": {},
   "source": [
    "* C'est logique de donner 1 pour les individus 1,2,5,6 car ces points appartiennent à la droite (D1).\n",
    "* De meme si on utilise que la droite D1 on aura 1 pour les individus 3 et 4."
   ]
  },
  {
   "cell_type": "markdown",
   "metadata": {},
   "source": [
    "* Pour k = 1, on obtient des qualités de projection de 1.0 pour les individus 1, 2, 5 et 6, ce qui signifie que le premier axe principal capture bien la variance des données pour ces individus. Cependant, pour les individus 3 et 4, on obtient une qualité de projection très proche de zéro (6.162975822039156e-33), ce qui signifie que le premier axe principal ne capture pas bien la variance des données pour ces individus.\n",
    "\n",
    "* l'importance de considérer plusieurs axes principaux (k > 1) pour obtenir une représentation plus complète des données, car un seul axe principal peut ne pas suffire pour capturer toutes les relations entre les variables et les individus."
   ]
  },
  {
   "cell_type": "markdown",
   "metadata": {},
   "source": [
    "6. Calculer la contribution des individus à une composante"
   ]
  },
  {
   "cell_type": "markdown",
   "metadata": {},
   "source": [
    "La contribution $\\gamma_i^k$ d'un individu i, jème observation, à l'inertie d'un axe factoriel $k$ quantifie l'importance de $i$ dans la définition du vecteur propre $k$ associé à la kème composante.\n",
    "\n",
    "Avec :\n",
    "$l_i^k$ : coordonnées de l'individu $\\mathrm{M}_{\\mathrm{i}}$ sur la composante $\\mathrm{C}_{\\mathrm{K}}$\n",
    "$$\n",
    "\\gamma_i^k=\\frac{\\frac{1}{n}\\left(l_i^k\\right)^2}{\\lambda_k}\n",
    "$$"
   ]
  },
  {
   "cell_type": "code",
   "execution_count": 81,
   "metadata": {},
   "outputs": [
    {
     "name": "stdout",
     "output_type": "stream",
     "text": [
      "Individu 1: Contributions aux composantes principales = [2.50000000e-01 3.08148791e-33]\n",
      "Individu 2: Contributions aux composantes principales = [2.50000000e-01 3.08148791e-33]\n",
      "Individu 3: Contributions aux composantes principales = [1.54074396e-33 5.00000000e-01]\n",
      "Individu 4: Contributions aux composantes principales = [1.54074396e-33 5.00000000e-01]\n",
      "Individu 5: Contributions aux composantes principales = [2.50000000e-01 3.08148791e-33]\n",
      "Individu 6: Contributions aux composantes principales = [2.50000000e-01 3.08148791e-33]\n"
     ]
    }
   ],
   "source": [
    "# Initialiser une liste pour stocker les contributions des individus\n",
    "contributions_individus = []\n",
    "\n",
    "# Calculer les contributions des individus pour chaque composante\n",
    "for i in range(coordonnees_factorielles.shape[0]):\n",
    "    contribution_i = (coordonnees_factorielles[i] ** 2) / (6*eigenvalues)\n",
    "    contributions_individus.append(contribution_i)\n",
    "\n",
    "# Afficher les contributions des individus\n",
    "for i, contribution in enumerate(contributions_individus):\n",
    "    print(f\"Individu {i + 1}: Contributions aux composantes principales = {contribution}\")"
   ]
  },
  {
   "cell_type": "code",
   "execution_count": 82,
   "metadata": {},
   "outputs": [
    {
     "data": {
      "text/plain": [
       "array([[2.50000000e-01, 3.08148791e-33],\n",
       "       [2.50000000e-01, 3.08148791e-33],\n",
       "       [1.54074396e-33, 5.00000000e-01],\n",
       "       [1.54074396e-33, 5.00000000e-01],\n",
       "       [2.50000000e-01, 3.08148791e-33],\n",
       "       [2.50000000e-01, 3.08148791e-33]])"
      ]
     },
     "execution_count": 82,
     "metadata": {},
     "output_type": "execute_result"
    }
   ],
   "source": [
    "contributions_individus=np.array(contributions_individus)\n",
    "contributions_individus"
   ]
  },
  {
   "cell_type": "markdown",
   "metadata": {},
   "source": [
    "7. Quels sont les points les mieux projetés et ceux qui contribuer le plus à une composante."
   ]
  },
  {
   "cell_type": "code",
   "execution_count": 83,
   "metadata": {},
   "outputs": [
    {
     "name": "stdout",
     "output_type": "stream",
     "text": [
      "Individus les mieux projetés:\n",
      "Individu 1: Qualité de projection = 1.0\n",
      "Individu 2: Qualité de projection = 1.0\n",
      "Individu 5: Qualité de projection = 1.0\n",
      "Individu 6: Qualité de projection = 1.0\n",
      "Individu 3: Qualité de projection = 6.162975822039156e-33\n",
      "Individu 4: Qualité de projection = 6.162975822039156e-33\n"
     ]
    }
   ],
   "source": [
    "# Pour obtenir les individus les mieux projetés dans l'ordre décroissant\n",
    "best_projected_individuals = np.argsort(-np.array(qualites_projection))\n",
    "\n",
    "# Affichage des individus les mieux projetés\n",
    "print(\"Individus les mieux projetés:\")\n",
    "for i, ind in enumerate(best_projected_individuals):\n",
    "    print(f\"Individu {ind + 1}: Qualité de projection = {qualites_projection[ind]}\")"
   ]
  },
  {
   "cell_type": "markdown",
   "metadata": {},
   "source": [
    "* Ces valeurs représentent la qualité de projection par rapport à (D1)."
   ]
  },
  {
   "cell_type": "code",
   "execution_count": 84,
   "metadata": {},
   "outputs": [
    {
     "data": {
      "text/plain": [
       "array([[2.50000000e-01, 3.08148791e-33],\n",
       "       [2.50000000e-01, 3.08148791e-33],\n",
       "       [1.54074396e-33, 5.00000000e-01],\n",
       "       [1.54074396e-33, 5.00000000e-01],\n",
       "       [2.50000000e-01, 3.08148791e-33],\n",
       "       [2.50000000e-01, 3.08148791e-33]])"
      ]
     },
     "execution_count": 84,
     "metadata": {},
     "output_type": "execute_result"
    }
   ],
   "source": [
    "contributions_individus"
   ]
  },
  {
   "cell_type": "code",
   "execution_count": 85,
   "metadata": {},
   "outputs": [
    {
     "name": "stdout",
     "output_type": "stream",
     "text": [
      "l'ordre des individus du plus grand à le plus petit qui contribuent le plus à la première composante principale: [1 2 5 6 3 4]\n",
      "l'ordre des individus du plus grand à le plus petit qui contribuent le plus à la deuxième composante principale: [3 4 1 2 5 6]\n"
     ]
    }
   ],
   "source": [
    "# Pour la première composante principale (colonne 0) :\n",
    "most_contributing_individuals_c1 = np.argsort(-contributions_individus[:, 0]) + 1\n",
    "\n",
    "# Pour la deuxième composante principale (colonne 1) :\n",
    "most_contributing_individuals_c2 = np.argsort(-contributions_individus[:, 1]) + 1\n",
    "\n",
    "# Affichage des individus qui contribuent le plus\n",
    "print(\"l'ordre des individus du plus grand à le plus petit qui contribuent le plus à la première composante principale:\", most_contributing_individuals_c1)\n",
    "print(\"l'ordre des individus du plus grand à le plus petit qui contribuent le plus à la deuxième composante principale:\", most_contributing_individuals_c2)"
   ]
  },
  {
   "cell_type": "markdown",
   "metadata": {},
   "source": [
    "Donc ce qui concerne la primeière composante :\n",
    "\n",
    "<sub>Contribution(individu_1) > Contribution(individu_2) > Contribution(individu_5) > Contribution(individu_6) > Contribution(individu_3) > Contribution(individu_4)</sub>\n",
    "\n",
    "Et ce qui concerne la deuxième composante :\n",
    "\n",
    "<sub>Contribution(individu_3) > Contribution(individu_4) > Contribution(individu_1) > Contribution(individu_2) > Contribution(individu_5) > Contribution(individu_6)</sub>"
   ]
  },
  {
   "cell_type": "markdown",
   "metadata": {},
   "source": [
    "* Etapes de l'ACP :"
   ]
  },
  {
   "cell_type": "markdown",
   "metadata": {},
   "source": [
    "Étape 1: Données et prétraitement\n",
    "    - Importer les données X\n",
    "    - Centrer les données en soustrayant la moyenne de chaque variable\n",
    "    - Calculer la matrice de données centrées Z\n",
    "\n",
    "Étape 2: Calcul de la matrice de covariance\n",
    "    - Calculer la matrice de covariance A à partir de Z\n",
    "\n",
    "Étape 3: Calcul des valeurs propres et vecteurs propres\n",
    "    - Calculer les valeurs propres et vecteurs propres de la matrice de covariance A\n",
    "    - Tri des valeurs propres en ordre décroissant\n",
    "    - Sélection des composantes principales (valeurs propres les plus élevées)\n",
    "\n",
    "Étape 4: Calcul des coordonnées factorielles\n",
    "    - Pour chaque composante principale sélectionnée :\n",
    "        - Calculer les coordonnées factorielles des individus en projetant les données sur les vecteurs propres\n",
    "\n",
    "Étape 5: Qualité des projections individus\n",
    "    - Calculer la distance de reconstruction entre les individus d'origine et leurs projections\n",
    "    - Calculer la qualité des projections individus\n",
    "\n",
    "Étape 6: Contribution des individus à une composante\n",
    "    - Pour chaque composante principale sélectionnée :\n",
    "        - Calculer la variance totale de la composante\n",
    "        - Calculer la contribution de chaque individu à la composante\n",
    "\n",
    "Étape 7: Identifier les points les mieux projetés et ceux qui contribuent le plus à chaque composante\n",
    "\n",
    "Étape 8: Visualisation des résultats (graphiques, etc.)\n",
    "\n",
    "Étape 9: Interprétation des composantes principales et des individus\n",
    "\n",
    "Fin de l'ACP"
   ]
  },
  {
   "cell_type": "markdown",
   "metadata": {},
   "source": [
    "\n",
    "\n",
    "        END"
   ]
  }
 ],
 "metadata": {
  "kernelspec": {
   "display_name": "Python 3",
   "language": "python",
   "name": "python3"
  },
  "language_info": {
   "codemirror_mode": {
    "name": "ipython",
    "version": 3
   },
   "file_extension": ".py",
   "mimetype": "text/x-python",
   "name": "python",
   "nbconvert_exporter": "python",
   "pygments_lexer": "ipython3",
   "version": "3.10.2"
  }
 },
 "nbformat": 4,
 "nbformat_minor": 2
}
